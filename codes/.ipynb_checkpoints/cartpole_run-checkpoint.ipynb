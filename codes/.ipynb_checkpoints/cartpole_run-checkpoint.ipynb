{
 "cells": [
  {
   "cell_type": "code",
   "execution_count": 1,
   "metadata": {},
   "outputs": [
    {
     "name": "stdout",
     "output_type": "stream",
     "text": [
      "episode:0, count:114, reword tot:114.0, reword avg:114.0\n",
      "episode:1, count:61, reword tot:61.0, reword avg:87.5\n",
      "episode:2, count:74, reword tot:74.0, reword avg:83.0\n",
      "episode:3, count:37, reword tot:37.0, reword avg:71.5\n",
      "episode:4, count:85, reword tot:85.0, reword avg:74.2\n",
      "episode:5, count:67, reword tot:67.0, reword avg:73.0\n",
      "episode:6, count:59, reword tot:59.0, reword avg:71.0\n",
      "episode:7, count:54, reword tot:54.0, reword avg:68.875\n",
      "episode:8, count:59, reword tot:59.0, reword avg:67.77777777777777\n",
      "episode:9, count:57, reword tot:57.0, reword avg:66.7\n"
     ]
    }
   ],
   "source": [
    "import tensorflow as tf\n",
    "import numpy as np\n",
    "import gym\n",
    "\n",
    "# model = tf.keras.models.load_model('./model/cartpole_model_DQN.h5')\n",
    "# model = tf.keras.models.load_model('./model/cartpole_model_a2c.h5')\n",
    "# model = tf.saved_model.load(\"./model/reinforce\")\n",
    "# model = tf.keras.models.load_model('./model/reinforce')\n",
    "model = tf.keras.models.load_model('./model/ppo')\n",
    "infer = model.signatures[\"serving_default\"]\n",
    "# print(infer.structured_outputs)\n",
    "# model.summary()\n",
    "\n",
    "env = gym.make('CartPole-v1')\n",
    "input_size = env.observation_space.shape[0]\n",
    "output_size = env.action_space.n\n",
    "\n",
    "reword_list=[]\n",
    "\n",
    "for episode in range(10):\n",
    "    state = env.reset()\n",
    "\n",
    "    reword_tot = 0\n",
    "    done = False\n",
    "    count = 0\n",
    "\n",
    "    while not done :\n",
    "        env.render()\n",
    "        count += 1\n",
    "\n",
    "        state_t = np.reshape(state, [1, 1, input_size])\n",
    "\n",
    "        Q = model.predict(state_t)\n",
    "        action = np.argmax(Q)\n",
    "\n",
    "        state_next, reword, done, none = env.step(action)\n",
    "\n",
    "        reword_tot += reword\n",
    "        state = state_next\n",
    "\n",
    "    reword_list.append(reword_tot)\n",
    "    print(\"episode:{}, count:{}, reword tot:{}, reword avg:{}\"\n",
    "                  .format(episode, count, reword_tot, np.mean(reword_list)))\n"
   ]
  },
  {
   "cell_type": "code",
   "execution_count": null,
   "metadata": {},
   "outputs": [],
   "source": []
  },
  {
   "cell_type": "code",
   "execution_count": null,
   "metadata": {},
   "outputs": [],
   "source": []
  }
 ],
 "metadata": {
  "kernelspec": {
   "display_name": "Python 3",
   "language": "python",
   "name": "python3"
  },
  "language_info": {
   "codemirror_mode": {
    "name": "ipython",
    "version": 3
   },
   "file_extension": ".py",
   "mimetype": "text/x-python",
   "name": "python",
   "nbconvert_exporter": "python",
   "pygments_lexer": "ipython3",
   "version": "3.7.7"
  }
 },
 "nbformat": 4,
 "nbformat_minor": 4
}
