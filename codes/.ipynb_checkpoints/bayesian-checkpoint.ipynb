{
 "cells": [
  {
   "cell_type": "code",
   "execution_count": 34,
   "metadata": {},
   "outputs": [
    {
     "name": "stdout",
     "output_type": "stream",
     "text": [
      "|   iter    |  target   |     x     |     y     |\n",
      "-------------------------------------------------\n",
      "| \u001b[0m 1       \u001b[0m | \u001b[0m-7.135   \u001b[0m | \u001b[0m 2.834   \u001b[0m | \u001b[0m 1.322   \u001b[0m |\n",
      "| \u001b[0m 2       \u001b[0m | \u001b[0m-7.78    \u001b[0m | \u001b[0m 2.0     \u001b[0m | \u001b[0m-1.186   \u001b[0m |\n",
      "| \u001b[95m 3       \u001b[0m | \u001b[95m-7.11    \u001b[0m | \u001b[95m 2.218   \u001b[0m | \u001b[95m-0.7867  \u001b[0m |\n",
      "| \u001b[0m 4       \u001b[0m | \u001b[0m-12.4    \u001b[0m | \u001b[0m 3.66    \u001b[0m | \u001b[0m 0.9608  \u001b[0m |\n",
      "| \u001b[95m 5       \u001b[0m | \u001b[95m-6.999   \u001b[0m | \u001b[95m 2.23    \u001b[0m | \u001b[95m-0.7392  \u001b[0m |\n",
      "=================================================\n"
     ]
    }
   ],
   "source": [
    "'''\n",
    "@Misc{,\n",
    "    author = {Fernando Nogueira},\n",
    "    title = {{Bayesian Optimization}: Open source constrained \n",
    "                                      global optimization tool for {Python}},\n",
    "    year = {2014--},\n",
    "    url = \" https://github.com/fmfn/BayesianOptimization\"\n",
    "}\n",
    "'''\n",
    "from bayes_opt import BayesianOptimization\n",
    "\n",
    "def black_box_function(x, y):\n",
    "    return -x ** 2 - (y - 1) ** 2 + 1\n",
    "\n",
    "pbounds = {'x': (2, 4), 'y': (-3, 3)}\n",
    "\n",
    "optimizer = BayesianOptimization(\n",
    "    f=black_box_function,\n",
    "    pbounds=pbounds,\n",
    "    random_state=1,\n",
    ")\n",
    "\n",
    "optimizer.maximize(\n",
    "    init_points=2,\n",
    "    n_iter=3,\n",
    ")"
   ]
  },
  {
   "cell_type": "code",
   "execution_count": 35,
   "metadata": {},
   "outputs": [
    {
     "name": "stdout",
     "output_type": "stream",
     "text": [
      "{'target': -6.999472814518675, 'params': {'x': 2.2303920156083024, 'y': -0.7392021938893159}}\n"
     ]
    }
   ],
   "source": [
    "'''\n",
    "@Misc{,\n",
    "    author = {Fernando Nogueira},\n",
    "    title = {{Bayesian Optimization}: Open source constrained \n",
    "                                      global optimization tool for {Python}},\n",
    "    year = {2014--},\n",
    "    url = \" https://github.com/fmfn/BayesianOptimization\"\n",
    "}\n",
    "'''\n",
    "print(optimizer.max)"
   ]
  },
  {
   "cell_type": "code",
   "execution_count": 36,
   "metadata": {},
   "outputs": [
    {
     "name": "stdout",
     "output_type": "stream",
     "text": [
      "Iteration 0: \n",
      "\t{'target': -7.135455292718879, 'params': {'x': 2.8340440094051482, 'y': 1.3219469606529488}}\n",
      "Iteration 1: \n",
      "\t{'target': -7.779531005607566, 'params': {'x': 2.0002287496346898, 'y': -1.1860045642089614}}\n",
      "Iteration 2: \n",
      "\t{'target': -7.109925819441113, 'params': {'x': 2.2175526295255183, 'y': -0.7867249801593896}}\n",
      "Iteration 3: \n",
      "\t{'target': -12.397162416009818, 'params': {'x': 3.660003815774634, 'y': 0.9608275029525108}}\n",
      "Iteration 4: \n",
      "\t{'target': -6.999472814518675, 'params': {'x': 2.2303920156083024, 'y': -0.7392021938893159}}\n"
     ]
    }
   ],
   "source": [
    "'''\n",
    "@Misc{,\n",
    "    author = {Fernando Nogueira},\n",
    "    title = {{Bayesian Optimization}: Open source constrained \n",
    "                                      global optimization tool for {Python}},\n",
    "    year = {2014--},\n",
    "    url = \" https://github.com/fmfn/BayesianOptimization\"\n",
    "}\n",
    "'''\n",
    "for i, res in enumerate(optimizer.res):\n",
    "    print(\"Iteration {}: \\n\\t{}\".format(i, res))"
   ]
  },
  {
   "cell_type": "code",
   "execution_count": 37,
   "metadata": {},
   "outputs": [
    {
     "name": "stdout",
     "output_type": "stream",
     "text": [
      "|   iter    |  target   |     x     |     y     |\n",
      "-------------------------------------------------\n",
      "| \u001b[95m 6       \u001b[0m | \u001b[95m-2.942   \u001b[0m | \u001b[95m 1.98    \u001b[0m | \u001b[95m 0.8567  \u001b[0m |\n",
      "| \u001b[95m 7       \u001b[0m | \u001b[95m-0.4597  \u001b[0m | \u001b[95m 1.096   \u001b[0m | \u001b[95m 1.508   \u001b[0m |\n",
      "| \u001b[95m 8       \u001b[0m | \u001b[95m 0.5304  \u001b[0m | \u001b[95m-0.6807  \u001b[0m | \u001b[95m 1.079   \u001b[0m |\n",
      "| \u001b[0m 9       \u001b[0m | \u001b[0m-5.33    \u001b[0m | \u001b[0m-1.526   \u001b[0m | \u001b[0m 3.0     \u001b[0m |\n",
      "| \u001b[0m 10      \u001b[0m | \u001b[0m-5.419   \u001b[0m | \u001b[0m-2.0     \u001b[0m | \u001b[0m-0.5552  \u001b[0m |\n",
      "=================================================\n"
     ]
    }
   ],
   "source": [
    "'''\n",
    "@Misc{,\n",
    "    author = {Fernando Nogueira},\n",
    "    title = {{Bayesian Optimization}: Open source constrained \n",
    "                                      global optimization tool for {Python}},\n",
    "    year = {2014--},\n",
    "    url = \" https://github.com/fmfn/BayesianOptimization\"\n",
    "}\n",
    "'''\n",
    "optimizer.set_bounds(new_bounds={\"x\": (-2, 3)})\n",
    "\n",
    "optimizer.maximize(\n",
    "    init_points=0,\n",
    "    n_iter=5,\n",
    ")"
   ]
  },
  {
   "cell_type": "code",
   "execution_count": 38,
   "metadata": {},
   "outputs": [
    {
     "name": "stdout",
     "output_type": "stream",
     "text": [
      "|   iter    |  target   |     x     |     y     |\n",
      "-------------------------------------------------\n",
      "| \u001b[95m 11      \u001b[0m | \u001b[95m 0.66    \u001b[0m | \u001b[95m 0.5     \u001b[0m | \u001b[95m 0.7     \u001b[0m |\n",
      "| \u001b[0m 12      \u001b[0m | \u001b[0m 0.1     \u001b[0m | \u001b[0m-0.3     \u001b[0m | \u001b[0m 0.1     \u001b[0m |\n",
      "=================================================\n"
     ]
    }
   ],
   "source": [
    "'''\n",
    "@Misc{,\n",
    "    author = {Fernando Nogueira},\n",
    "    title = {{Bayesian Optimization}: Open source constrained \n",
    "                                      global optimization tool for {Python}},\n",
    "    year = {2014--},\n",
    "    url = \" https://github.com/fmfn/BayesianOptimization\"\n",
    "}\n",
    "'''\n",
    "optimizer.probe(\n",
    "    params={\"x\": 0.5, \"y\": 0.7},\n",
    "    lazy=True,\n",
    ")\n",
    "\n",
    "optimizer.probe(\n",
    "    params=[-0.3, 0.1],\n",
    "    lazy=True,\n",
    ")\n",
    "\n",
    "optimizer.maximize(init_points=0, n_iter=0)"
   ]
  },
  {
   "cell_type": "code",
   "execution_count": 23,
   "metadata": {},
   "outputs": [
    {
     "name": "stdout",
     "output_type": "stream",
     "text": [
      "|   iter    |  target   |     x     |     y     |\n",
      "-------------------------------------------------\n",
      "| \u001b[0m 13      \u001b[0m | \u001b[0m-12.48   \u001b[0m | \u001b[0m-1.266   \u001b[0m | \u001b[0m-2.446   \u001b[0m |\n",
      "| \u001b[0m 14      \u001b[0m | \u001b[0m-3.854   \u001b[0m | \u001b[0m-1.069   \u001b[0m | \u001b[0m-0.9266  \u001b[0m |\n",
      "| \u001b[0m 15      \u001b[0m | \u001b[0m-3.594   \u001b[0m | \u001b[0m 0.7709  \u001b[0m | \u001b[0m 3.0     \u001b[0m |\n",
      "| \u001b[95m 16      \u001b[0m | \u001b[95m 0.8237  \u001b[0m | \u001b[95m 0.03431 \u001b[0m | \u001b[95m 1.419   \u001b[0m |\n",
      "| \u001b[95m 17      \u001b[0m | \u001b[95m 0.9721  \u001b[0m | \u001b[95m-0.1051  \u001b[0m | \u001b[95m 0.8701  \u001b[0m |\n",
      "=================================================\n"
     ]
    }
   ],
   "source": [
    "'''\n",
    "@Misc{,\n",
    "    author = {Fernando Nogueira},\n",
    "    title = {{Bayesian Optimization}: Open source constrained \n",
    "                                      global optimization tool for {Python}},\n",
    "    year = {2014--},\n",
    "    url = \" https://github.com/fmfn/BayesianOptimization\"\n",
    "}\n",
    "'''\n",
    "from bayes_opt.logger import JSONLogger\n",
    "from bayes_opt.event import Events\n",
    "\n",
    "logger = JSONLogger(path=\"./bayesian/logs.json\")\n",
    "optimizer.subscribe(Events.OPTIMIZATION_STEP, logger)\n",
    "\n",
    "optimizer.maximize(\n",
    "    init_points=2,\n",
    "    n_iter=3,\n",
    ")"
   ]
  },
  {
   "cell_type": "code",
   "execution_count": 25,
   "metadata": {},
   "outputs": [
    {
     "name": "stdout",
     "output_type": "stream",
     "text": [
      "|   iter    |  target   |     x     |     y     |\n",
      "-------------------------------------------------\n",
      "| \u001b[0m 1       \u001b[0m | \u001b[0m-1.887   \u001b[0m | \u001b[0m-1.695   \u001b[0m | \u001b[0m 1.12    \u001b[0m |\n",
      "| \u001b[0m 2       \u001b[0m | \u001b[0m 0.928   \u001b[0m | \u001b[0m-0.2464  \u001b[0m | \u001b[0m 0.8939  \u001b[0m |\n",
      "| \u001b[0m 3       \u001b[0m | \u001b[0m-4.825   \u001b[0m | \u001b[0m 2.0     \u001b[0m | \u001b[0m-0.351   \u001b[0m |\n",
      "| \u001b[0m 4       \u001b[0m | \u001b[0m-3.456   \u001b[0m | \u001b[0m 2.0     \u001b[0m | \u001b[0m 1.675   \u001b[0m |\n",
      "| \u001b[0m 5       \u001b[0m | \u001b[0m-0.5305  \u001b[0m | \u001b[0m-0.7284  \u001b[0m | \u001b[0m 2.0     \u001b[0m |\n",
      "=================================================\n"
     ]
    }
   ],
   "source": [
    "'''\n",
    "@Misc{,\n",
    "    author = {Fernando Nogueira},\n",
    "    title = {{Bayesian Optimization}: Open source constrained \n",
    "                                      global optimization tool for {Python}},\n",
    "    year = {2014--},\n",
    "    url = \" https://github.com/fmfn/BayesianOptimization\"\n",
    "}\n",
    "'''\n",
    "from bayes_opt.util import load_logs\n",
    "\n",
    "new_optimizer = BayesianOptimization(\n",
    "    f=black_box_function,\n",
    "    pbounds={\"x\": (-2, 2), \"y\": (-2, 2)},\n",
    "    verbose=2,\n",
    "    random_state=7,\n",
    ")\n",
    "\n",
    "load_logs(new_optimizer, logs=[\"./bayesian/logs.json\"])\n",
    "\n",
    "new_optimizer.maximize(\n",
    "    init_points=2,\n",
    "    n_iter=3,\n",
    ")"
   ]
  },
  {
   "cell_type": "code",
   "execution_count": 26,
   "metadata": {},
   "outputs": [
    {
     "data": {
      "text/plain": [
       "(0.0, 0.4)"
      ]
     },
     "execution_count": 26,
     "metadata": {},
     "output_type": "execute_result"
    },
    {
     "data": {
      "image/png": "[encoded data removed]",
      "text/plain": [
       "<Figure size 432x288 with 1 Axes>"
      ]
     },
     "metadata": {
      "needs_background": "light"
     },
     "output_type": "display_data"
    }
   ],
   "source": [
    "from scipy.stats import norm\n",
    "import matplotlib.pyplot as plt\n",
    "import numpy as np\n",
    "rv = norm(loc = 170, scale = 7)\n",
    "x = np.arange(150, 190, 0.2) \n",
    "y = rv.pdf(x) \n",
    "fig, ax = plt.subplots(1,1) \n",
    "ax.plot(x, y,'bo', ms=2, label = 'normal pdf')\n",
    "ax.vlines(x, 0, y, colors='w', lw =5, alpha =0.5)\n",
    "ax.set_ylim([0,.4]) "
   ]
  },
  {
   "cell_type": "code",
   "execution_count": 27,
   "metadata": {
    "scrolled": true
   },
   "outputs": [
    {
     "data": {
      "text/plain": [
       "(0.0, 0.4)"
      ]
     },
     "execution_count": 27,
     "metadata": {},
     "output_type": "execute_result"
    },
    {
     "data": {
      "image/png": "[encoded data removed]",
      "text/plain": [
       "<Figure size 432x288 with 1 Axes>"
      ]
     },
     "metadata": {
      "needs_background": "light"
     },
     "output_type": "display_data"
    }
   ],
   "source": [
    "from scipy.stats import norm\n",
    "import matplotlib.pyplot as plt\n",
    "import numpy as np\n",
    "rv = norm(loc = 170, scale = 5)\n",
    "x = np.arange(150, 190, 0.2)\n",
    "y = rv.pdf(x)\n",
    "fig, ax = plt.subplots(1,1) \n",
    "ax.plot(x, y,'bo', ms=8, label = 'normal pdf')\n",
    "ax.vlines(x, 0, y, colors='b', lw =5, alpha =0.5)\n",
    "ax.set_ylim([0,.4])"
   ]
  },
  {
   "cell_type": "code",
   "execution_count": 28,
   "metadata": {
    "scrolled": true
   },
   "outputs": [
    {
     "data": {
      "text/plain": [
       "(0.0, 0.4)"
      ]
     },
     "execution_count": 28,
     "metadata": {},
     "output_type": "execute_result"
    },
    {
     "data": {
      "image/png": "[encoded data removed]",
      "text/plain": [
       "<Figure size 432x288 with 1 Axes>"
      ]
     },
     "metadata": {
      "needs_background": "light"
     },
     "output_type": "display_data"
    }
   ],
   "source": [
    "from scipy.stats import norm\n",
    "import matplotlib.pyplot as plt\n",
    "import numpy as np\n",
    "rv = norm(loc = 160, scale = 5)\n",
    "x = np.arange(150, 190, 0.2)\n",
    "y = rv.pdf(x) \n",
    "fig, ax = plt.subplots(1,1) \n",
    "ax.plot(x, y,'ro', ms=8, label = 'normal pdf')\n",
    "ax.vlines(x, 0, y, colors='r', lw =5, alpha =0.5)\n",
    "ax.set_ylim([0,.4])"
   ]
  },
  {
   "cell_type": "code",
   "execution_count": 29,
   "metadata": {},
   "outputs": [
    {
     "data": {
      "text/plain": [
       "(0.0, 0.4)"
      ]
     },
     "execution_count": 29,
     "metadata": {},
     "output_type": "execute_result"
    },
    {
     "data": {
      "image/png": "[encoded data removed]",
      "text/plain": [
       "<Figure size 432x288 with 1 Axes>"
      ]
     },
     "metadata": {
      "needs_background": "light"
     },
     "output_type": "display_data"
    }
   ],
   "source": [
    "from scipy.stats import norm\n",
    "import matplotlib.pyplot as plt\n",
    "import numpy as np\n",
    "rv = norm(loc = 165, scale = 5)\n",
    "x = np.arange(150, 190, 0.2)\n",
    "y = rv.pdf(x)\n",
    "fig, ax = plt.subplots(1,1) \n",
    "ax.plot(x, y,color='black', ms=8, label = 'normal pdf')\n",
    "ax.vlines(x, 0, y, colors='black', lw =5, alpha =0.5)\n",
    "ax.set_ylim([0,.4]) "
   ]
  }
 ],
 "metadata": {
  "kernelspec": {
   "display_name": "Python 3 (ipykernel)",
   "language": "python",
   "name": "python3"
  },
  "language_info": {
   "codemirror_mode": {
    "name": "ipython",
    "version": 3
   },
   "file_extension": ".py",
   "mimetype": "text/x-python",
   "name": "python",
   "nbconvert_exporter": "python",
   "pygments_lexer": "ipython3",
   "version": "3.12.0"
  }
 },
 "nbformat": 4,
 "nbformat_minor": 4
}
